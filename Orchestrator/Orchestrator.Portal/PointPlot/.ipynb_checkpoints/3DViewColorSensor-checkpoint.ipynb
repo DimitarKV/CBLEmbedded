{
 "cells": [
  {
   "cell_type": "code",
   "id": "72a0b7ab",
   "metadata": {
    "jupyter": {
     "is_executing": true
    }
   },
   "source": [
    "import matplotlib.pyplot as plt\n",
    "import pandas as pd\n",
    "from mpl_toolkits.mplot3d import Axes3D\n",
    "from scipy.spatial import Delaunay\n",
    "import numpy as np"
   ],
   "outputs": [],
   "execution_count": null
  },
  {
   "cell_type": "code",
   "id": "1c414929",
   "metadata": {
    "scrolled": true,
    "jupyter": {
     "is_executing": true
    }
   },
   "source": [
    "dfWhite = pd.read_csv('../white.csv')\n",
    "#dfBlack = pd.read_csv('data2.csv')\n",
    "#dfGreen = pd.read_csv('data3.csv')\n",
    "#dfConveyor = pd.read_csv('data4.csv')\n",
    "dfWhite.head(100)"
   ],
   "outputs": [],
   "execution_count": null
  },
  {
   "cell_type": "code",
   "id": "61674d29",
   "metadata": {},
   "source": [
    "dfWhite.columns"
   ],
   "outputs": [],
   "execution_count": null
  },
  {
   "cell_type": "code",
   "id": "dc3f30cf",
   "metadata": {},
   "source": [
    "points = dfWhite[['Red','Green','Blue']].values\n",
    "tri = Delaunay(points[:, :2])"
   ],
   "outputs": [],
   "execution_count": null
  },
  {
   "cell_type": "code",
   "id": "3f241c37",
   "metadata": {},
   "source": [
    "fig = plt.figure(figsize=(10, 8))\n",
    "ax = plt.axes(projection='3d')\n",
    "\n",
    "# Plot the surface\n",
    "ax.plot_trisurf(points[:, 0], points[:, 1], points[:, 2], triangles=tri.simplices, cmap='viridis', edgecolor='none')"
   ],
   "outputs": [],
   "execution_count": null
  },
  {
   "cell_type": "code",
   "id": "55d44081",
   "metadata": {
    "scrolled": false
   },
   "source": [
    "%matplotlib widget\n",
    "plt.figure(figsize=(10,8))\n",
    "ax = plt.axes(projection='3d')\n",
    "fg1 = ax.scatter3D(dfWhite['Red'], dfWhite['Green'], dfWhite['Blue'])\n",
    "\n",
    "#fg2 = ax.scatter3D(dfBlack['r'], dfBlack['g'], dfBlack['b'])\n",
    "#fg3 = ax.scatter3D(dfGreen['r'], dfGreen['g'], dfGreen['b'])\n",
    "#fg4 = ax.scatter3D(dfConveyor['r'], dfConveyor['g'], dfConveyor['b'])"
   ],
   "outputs": [],
   "execution_count": null
  }
 ],
 "metadata": {
  "kernelspec": {
   "display_name": "Python 3 (ipykernel)",
   "language": "python",
   "name": "python3"
  },
  "language_info": {
   "codemirror_mode": {
    "name": "ipython",
    "version": 3
   },
   "file_extension": ".py",
   "mimetype": "text/x-python",
   "name": "python",
   "nbconvert_exporter": "python",
   "pygments_lexer": "ipython3",
   "version": "3.11.9"
  }
 },
 "nbformat": 4,
 "nbformat_minor": 5
}
